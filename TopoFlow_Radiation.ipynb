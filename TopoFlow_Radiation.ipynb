{
 "cells": [
  {
   "cell_type": "markdown",
   "metadata": {},
   "source": [
    "## Demo of TopoFlow Solar Radiation Methods\n",
    "\n",
    "#### Table of Contents\n",
    "\n",
    "1.  <a href=\"#intro\">Introduction</a> <br>\n",
    "2.  <a href=\"#import\">Import Required Python Packages</a> <br>\n",
    "3.  <a href=\"#functions\">Define a Few Functions</a> <br>\n",
    "4.  <a href=\"#tests\">Run Some Basic Tests</a> <br>\n",
    "5.  <a href=\"#declination\">Plot Declination vs. Julian Day</a> <br>\n",
    "6.  <a href=\"#eccentricity\">Plot Eccentricity Correction vs. Julian Day</a> <br>\n",
    "7.  <a href=\"#ET_rad_flux\">Plot ET Radiation Flux vs. Hour Offset</a> <br>\n",
    "8.  <a href=\"#sunrise\">Compute Sunrise/Sunset: Account for Slope and Aspect</a> <br>\n",
    "9.  <a href=\"#day_length\">Plot Day Length vs. Aspect for 20 Degree Slope</a> <br>\n",
    "10. <a href=\"#setup\">Appendix 1:  Installing TopoFlow in a conda Environment</a>"
   ]
  },
  {
   "cell_type": "markdown",
   "metadata": {},
   "source": [
    "### Introduction  <a id=\"intro\"></a>\n",
    "\n",
    "This notebook shows some of the capabilities of the shortwave and longwave radiation calculators in the [<b>TopoFlow Meteorology component</b>](https://csdms.colorado.edu/wiki/Model_help:TopoFlow-Meteorology).\n",
    "\n",
    "Before you can run the code in this notebook, you will need to install the TopoFlow 3.6 Python package.  Detailed instructions and background information for how to install TopoFlow in a conda environment are given in\n",
    "<a href=\"#setup\"><b>Appendix 1:  Installing TopoFlow in a conda Environment</b></a>.\n"
   ]
  },
  {
   "cell_type": "markdown",
   "metadata": {},
   "source": [
    "### Import Required Python Packages  <a id=\"import\"></a>"
   ]
  },
  {
   "cell_type": "code",
   "execution_count": 1,
   "metadata": {},
   "outputs": [
    {
     "name": "stdout",
     "output_type": "stream",
     "text": [
      "Importing TopoFlow 3.6 package modules:\n",
      "   topoflow.utils\n",
      "   topoflow.utils.tests\n",
      "   topoflow.components\n",
      "   topoflow.components.tests\n",
      "   topoflow.framework\n",
      "   topoflow.framework.tests\n",
      " \n",
      "Paths for this package:\n",
      "framework_dir = /Users/peckhams/Dropbox/TopoFlow_3.6/topoflow/framework/\n",
      "parent_dir    = /Users/peckhams/Dropbox/TopoFlow_3.6/topoflow/\n",
      "examples_dir  = /Users/peckhams/Dropbox/TopoFlow_3.6/topoflow/examples/\n",
      "__file__      = /Users/peckhams/Dropbox/TopoFlow_3.6/topoflow/framework/emeli.py\n",
      "__name__      = topoflow.framework.emeli\n",
      " \n"
     ]
    }
   ],
   "source": [
    "import numpy as np\n",
    "from topoflow.components import solar_funcs as solar\n",
    "from topoflow.utils import visualize as tfvis"
   ]
  },
  {
   "cell_type": "markdown",
   "metadata": {},
   "source": [
    "### Define a Few Functions  <a id=\"functions\"></a>"
   ]
  },
  {
   "cell_type": "code",
   "execution_count": 3,
   "metadata": {},
   "outputs": [],
   "source": [
    "# These are just approximate.\n",
    "#------------------------------------------------------------------------\n",
    "def Winter_Solstice_Month_Day():\n",
    "    return (12,22)\n",
    "#------------------------------------------------------------------------\n",
    "def Summer_Solstice_Month_Day():\n",
    "    return (6,21)\n",
    "#------------------------------------------------------------------------\n",
    "def Vernal_Equinox_Month_Day():\n",
    "    return (3,21)\n",
    "#------------------------------------------------------------------------\n",
    "def Autumnal_Equinox_Month_Day():\n",
    "    return (6,21)"
   ]
  },
  {
   "cell_type": "markdown",
   "metadata": {},
   "source": [
    "### Run Some Basic Tests  <a id=\"tests\"></a>"
   ]
  },
  {
   "cell_type": "code",
   "execution_count": 3,
   "metadata": {},
   "outputs": [
    {
     "name": "stdout",
     "output_type": "stream",
     "text": [
      "Julian Day  = 356\n",
      "Day Angle   = 6.128257450290227  [radians]\n",
      "Day Angle   = 351.1235842526367  [degrees]\n",
      "Declination = -0.4088324041724486  [radians]\n",
      "Declination = -23.42439107300467  [degrees]\n"
     ]
    }
   ],
   "source": [
    "(month_num, day_num) = Winter_Solstice_Month_Day()    # -23.44\n",
    "# (month_num, day_num) = Summer_Solstice_Month_Day()  # +23.44\n",
    "# (month_num, day_num) = Vernal_Equinox_Month_Day()   # 0.0\n",
    "# (month_num, day_num) = Autumnal_Equinox_Month_Day() # 0.0\n",
    "JD = solar.Julian_Day( month_num, day_num)\n",
    "DA = solar.Day_Angle( JD)\n",
    "D  = solar.Declination( DA )\n",
    "print('Julian Day  =', JD)\n",
    "print('Day Angle   =', DA, ' [radians]')\n",
    "print('Day Angle   =', DA * (180/3.14159), ' [degrees]')\n",
    "print('Declination =', D, ' [radians]')\n",
    "print('Declination =', D * (180/3.14159), ' [degrees]')"
   ]
  },
  {
   "cell_type": "markdown",
   "metadata": {},
   "source": [
    "### Plot Declination vs. Julian Day  <a id=\"declination\"></a>"
   ]
  },
  {
   "cell_type": "code",
   "execution_count": 4,
   "metadata": {},
   "outputs": [
    {
     "name": "stdout",
     "output_type": "stream",
     "text": [
      "ymin1, ymax1 = -23.426039035075107 23.4555686938443\n"
     ]
    },
    {
     "data": {
      "image/png": "[encoded data removed]",
      "text/plain": [
       "<Figure size 720x288 with 1 Axes>"
      ]
     },
     "metadata": {
      "needs_background": "light"
     },
     "output_type": "display_data"
    }
   ],
   "source": [
    "x  = np.arange(365)\n",
    "x2 = solar.Day_Angle( x)\n",
    "y  = solar.Declination( x2 ) * (180.0 / np.pi)\n",
    "ymin1 = y.min()\n",
    "ymax1 = y.max()\n",
    "print('ymin1, ymax1 =', ymin1, ymax1)\n",
    "\n",
    "tfvis.plot_data( x, y, xmin=0.0, xmax=365.0, ymin=-24.0, ymax=24.0,\n",
    "                 x_name='Julian Day', x_units='day #',\n",
    "                 y_name='Solar Declination', y_units='degrees',\n",
    "                 x_size=10, y_size=4)"
   ]
  },
  {
   "cell_type": "markdown",
   "metadata": {},
   "source": [
    "### Plot Eccentricity Correction vs. Julian Day  <a id=\"eccentricity\"></a>"
   ]
  },
  {
   "cell_type": "code",
   "execution_count": 5,
   "metadata": {},
   "outputs": [
    {
     "name": "stdout",
     "output_type": "stream",
     "text": [
      "ymin1, ymax1 = 0.9665885739261216 1.0350773742999697\n"
     ]
    },
    {
     "data": {
      "image/png": "[encoded data removed]",
      "text/plain": [
       "<Figure size 720x288 with 1 Axes>"
      ]
     },
     "metadata": {
      "needs_background": "light"
     },
     "output_type": "display_data"
    }
   ],
   "source": [
    "x  = np.arange(365)\n",
    "x2 = solar.Day_Angle( x)\n",
    "y  = solar.Eccentricity_Correction( x2 )  ## * (180.0 / np.pi)\n",
    "ymin1 = y.min()\n",
    "ymax1 = y.max()\n",
    "print('ymin1, ymax1 =', ymin1, ymax1)\n",
    "\n",
    "tfvis.plot_data( x, y, xmin=0.0, xmax=365.0, ymin=0.95, ymax=1.05,\n",
    "                 x_name='Julian Day', x_units='day #',\n",
    "                 y_name='Eccentricity Correction', y_units='degrees',\n",
    "                 x_size=10, y_size=4)"
   ]
  },
  {
   "cell_type": "markdown",
   "metadata": {},
   "source": [
    "### Plot Extra-Terrestrial Radiation Flux vs. Hour Offset  <a id=\"ET_rad_flux\"></a>"
   ]
  },
  {
   "cell_type": "code",
   "execution_count": 6,
   "metadata": {},
   "outputs": [
    {
     "name": "stdout",
     "output_type": "stream",
     "text": [
      "ymin1, ymax1 = 0.0 1302.6580024147834\n",
      "Sunrise = -6.0 hours before solar noon.\n",
      "Sunset  = 6.0 hours after solar noon.\n"
     ]
    },
    {
     "data": {
      "image/png": "[encoded data removed]",
      "text/plain": [
       "<Figure size 720x288 with 1 Axes>"
      ]
     },
     "metadata": {
      "needs_background": "light"
     },
     "output_type": "display_data"
    }
   ],
   "source": [
    "lat_deg = 0.0    # Equator\n",
    "# lat_deg = 40.0   # Boulder\n",
    "Julian_day = 1.0\n",
    "th = 0.5*np.arange(48) - 12.0  # (hour offsets from solar noon)\n",
    "x = th\n",
    "# This does not take slope & aspect into account.\n",
    "# Use solar.ET_Radiation_Flux_Slope() for that.\n",
    "y = solar.ET_Radiation_Flux( lat_deg, Julian_day, th )\n",
    "\n",
    "ymin1 = y.min()\n",
    "ymax1 = y.max()\n",
    "print('ymin1, ymax1 =', ymin1, ymax1)\n",
    "x2 = x[ y > 0]\n",
    "print('Sunrise =', x2.min(), 'hours before solar noon.' )\n",
    "print('Sunset  =', x2.max(), 'hours after solar noon.' )\n",
    "\n",
    "tfvis.plot_data( x, y, xmin=-12, xmax=12,\n",
    "                 ## ymin=0.95, ymax=1.05,\n",
    "                 x_name='Hour Offset from Solar Noon', x_units='hours',\n",
    "                 y_name='Radiation Flux', y_units='W/m2',\n",
    "                 marker='+', x_size=10, y_size=4)\n"
   ]
  },
  {
   "cell_type": "markdown",
   "metadata": {},
   "source": [
    "### Compute Sunrise and Sunset and Account for Slope & Aspect  <a id=\"sunrise\"></a>"
   ]
  },
  {
   "cell_type": "code",
   "execution_count": 7,
   "metadata": {},
   "outputs": [
    {
     "name": "stdout",
     "output_type": "stream",
     "text": [
      "Sunrise offset, north facing = -2.8491415938138247\n",
      "Sunset offset, north facing  = 2.8491415938138247\n",
      "Day length, north facing = 5.698283187627649\n",
      "\n",
      "Sunrise offset, south facing = -4.610420803544746\n",
      "Sunset offset, south facing  = 4.610420803544746\n",
      "Day length, south facing = 9.220841607089492\n",
      "\n"
     ]
    }
   ],
   "source": [
    "#---------------------------------------------------------------\n",
    "# Notes:  beta  = \"slope angle\" satisfies slope = tan(beta).\n",
    "#         alpha = \"aspect_angle\" or azimuth is measured\n",
    "#                 clockwise from north.\n",
    "#         Both angles have units of radians.\n",
    "#---------------------------------------------------------------\n",
    "# lat_deg = 0.0  # (Equator)\n",
    "lat_deg = 40.0\n",
    "Julian_day = 1.0\n",
    "beta  = 20.0 * (np.pi / 180.0)\n",
    "# beta  = 40.0 * (np.pi / 180.0)  # makes day lenth = zero !\n",
    "#---------------------------------------------------------------\n",
    "alpha_N = 0.0  # north facing slope\n",
    "sunrise_offset_N = solar.Sunrise_Offset_Slope(lat_deg, Julian_day, alpha_N, beta)\n",
    "sunset_offset_N  = solar.Sunset_Offset_Slope(lat_deg, Julian_day, alpha_N, beta)\n",
    "day_length_N     = solar.Day_Length_Slope( lat_deg, Julian_day, alpha_N, beta )\n",
    "\n",
    "# These are grids if alpha and beta are grids.\n",
    "print('Sunrise offset, north facing =', sunrise_offset_N )\n",
    "print('Sunset offset, north facing  =', sunset_offset_N )\n",
    "print('Day length, north facing =', day_length_N )\n",
    "print()\n",
    "#---------------------------------------------------------------\n",
    "alpha_S = np.pi  # south facing slope\n",
    "sunrise_offset_S = solar.Sunrise_Offset_Slope(lat_deg, Julian_day, alpha_S, beta)\n",
    "sunset_offset_S  = solar.Sunset_Offset_Slope(lat_deg, Julian_day, alpha_S, beta)\n",
    "day_length_S     = solar.Day_Length_Slope( lat_deg, Julian_day, alpha_S, beta )\n",
    "\n",
    "# These are grids if alpha and beta are grids.\n",
    "print('Sunrise offset, south facing =', sunrise_offset_S )\n",
    "print('Sunset offset, south facing  =', sunset_offset_S )\n",
    "print('Day length, south facing =', day_length_S )\n",
    "print()\n"
   ]
  },
  {
   "cell_type": "markdown",
   "metadata": {},
   "source": [
    "### Plot Day Length vs. Aspect for 20 Degree Slope  <a id=\"day_length\"></a>"
   ]
  },
  {
   "cell_type": "code",
   "execution_count": 8,
   "metadata": {},
   "outputs": [
    {
     "name": "stdout",
     "output_type": "stream",
     "text": [
      "ymin1, ymax1 = 5.698283187627649 9.220841607089492\n"
     ]
    },
    {
     "data": {
      "image/png": "[encoded data removed]",
      "text/plain": [
       "<Figure size 720x288 with 1 Axes>"
      ]
     },
     "metadata": {
      "needs_background": "light"
     },
     "output_type": "display_data"
    }
   ],
   "source": [
    "# lat_deg = 0.0    # Equator\n",
    "lat_deg = 40.0   # Boulder\n",
    "Julian_day = 1.0\n",
    "beta  = 20.0 * (np.pi / 180.0)\n",
    "# beta  = 40.0 * (np.pi / 180.0)  # makes day length = zero sometimes!\n",
    "\n",
    "alpha_rad = (np.arange(100)/99) * (2 * np.pi)  # [0, 2Pi]\n",
    "alpha_deg = alpha_rad.copy() * (180 / np.pi)\n",
    "day_length = solar.Day_Length_Slope( lat_deg, Julian_day, alpha_rad, beta )\n",
    "x = alpha_deg\n",
    "y = day_length\n",
    "\n",
    "ymin1 = y.min()\n",
    "ymax1 = y.max()\n",
    "print('ymin1, ymax1 =', ymin1, ymax1)\n",
    "\n",
    "tfvis.plot_data( x, y, xmin=0, xmax=360,\n",
    "                 x_name='Aspect angle', x_units='deg CW from north',\n",
    "                 y_name='Day Length', y_units='hours',\n",
    "                 marker='+', x_size=10, y_size=4)"
   ]
  },
  {
   "cell_type": "code",
   "execution_count": 13,
   "metadata": {},
   "outputs": [
    {
     "name": "stdout",
     "output_type": "stream",
     "text": [
      "2020\n",
      "1\n",
      "32\n"
     ]
    }
   ],
   "source": [
    "print( solar.Current_Year() )\n",
    "print(solar.Julian_Day(1,1))\n",
    "print(solar.Julian_Day(2,1))"
   ]
  },
  {
   "cell_type": "markdown",
   "metadata": {},
   "source": [
    "## Appendix 1: Installing TopoFlow in a conda Environment  <a id=\"setup\"></a>\n",
    "\n",
    "To run this Jupyter notebook, it is recommended to use Python 3.7 from an Anaconda distribution and to install the required Python packages in a conda environment called <b>tf36</b>.  This prevents conflicts with other Python packages you may have installed.\n",
    "The Anaconda distribution includes many packages from the\n",
    "[<b>Python Standard Library</b>](https://docs.python.org/3/library/).\n",
    "\n",
    "First, download the TopoFlow 3.6 package from GitHub repo \"topoflow36\" at:\n",
    "<b>https://github.com/peckhams/topoflow36</b>.\n",
    "Copy or unzip the package into some directory on your computer.  Let's refer to this full path as TF36_DIR.  e.g. TF36_DIR = /Users/peckhams/Dropbox/TopoFlow_3.6\n",
    "\n",
    "Installing TopoFlow 3.6 with pip causes most of its dependencies to be installed automatically.  However, if you want to run the growing collection of Jupyter notebooks (such as this one) that highlight TopoFlow functionality, you will also need to install the\n",
    "[<b>nb_conda</b>](https://docs.anaconda.com/anaconda/user-guide/tasks/use-jupyter-notebook-extensions/) package, and optionally the <b>jupyterlab</b> package (see below).\n",
    "In addition, some of the new TopoFlow utilities (e.g. regrid.py and visualize.py) require the\n",
    "[<b>gdal</b>](https://pypi.org/project/GDAL/) and\n",
    "[<b>matplotlib</b>](https://matplotlib.org/) packages.\n",
    "Simply type the following commands at an OS prompt after installing Anaconda and downloading TopoFlow.\n",
    "\n",
    "``` bash\n",
    "% conda update -n base conda\n",
    "% conda create --name tf36\n",
    "% conda activate tf36\n",
    "% conda list\n",
    "% conda install nb_conda\n",
    "% conda install gdal\n",
    "% conda install matplotlib\n",
    "% cd TF36_DIR\n",
    "% pip install -e .   (-e is the editable/developer option)\n",
    "```\n",
    "\n",
    "<b>Note:</b>  The <b>pip</b> package manager is used to install TopoFlow 3.6, since it is not available as a conda package.  (It gets installed when you install <b>nb_conda</b>.) However, like conda, pip will install a package and its dependencies into the currently active conda environment, as explained\n",
    "[<b>in these docs</b>](https://docs.conda.io/projects/conda/en/4.6.1/user-guide/tasks/manage-pkgs.html#installing-non-conda-packages).  If you switch to another environment with <b>conda activate envname</b>, you can confirm that topoflow (or cfunits, gdal, netcdf4, etc.) is not there with <b>conda list</b>. \n",
    "\n",
    "<b>Note:</b>  Some of the new TopoFlow utilities use a Python package version of [<b>GDAL</b>](https://pypi.org/project/GDAL/).  At the time of this writing, installing <b>gdal</b> from the <b>conda-forge </b> with <i>conda install -c conda-forge gdal</i> did not work.\n",
    "\n",
    "<b>Note:</b> The netCDF4 package will be installed as a TopoFlow dependency.\n",
    "\n",
    "#### <b>Conda Environments</b>\n",
    "\n",
    "Note that <b>conda</b> is the name of the package manager for the popular Anaconda Python distribution.  One feature of conda is support for multiple environments, which are isolated from one another.  When you install Anaconda, an environment called <b>base</b> is created for you and a base set of commonly-used Python packages are installed there.  However, you can (and should!) create additional, named environments and install different sets of Python packages into them without worrying about potential conflicts with packages in other environments.  Type <b>conda env list</b> to list your available environments.  You can switch to one of your other environments using the command <b>conda activate envname</b>.  (Replace \"envname\" with the name of an environment.) You can switch back to the base environment with the command <b>conda deactivate</b>.  It is better not to install new packages into the base environment.  See the online conda documentation on [<b>Managing Environments</b>](https://docs.conda.io/projects/conda/en/latest/user-guide/tasks/manage-environments.html) for more information.\n",
    "\n",
    "It is always a good idea to update conda itself before creating new environments and installing packages in them. The \"-n\" flag is followed by the name of the environment to update, and the \"-c\" flag is followed by the name of the <b>channel</b> from which to get packages.  A channel is a collection of Python packages that are provided and maintained by some group.  The word \"defaults\" refers to\n",
    "[<b>Anaconda's own collection</b>](https://docs.anaconda.com/anaconda/packages/pkg-docs/), while\n",
    "[<b>conda-forge</b>](https://conda-forge.org/feedstocks/)\n",
    "refers to another popular collection and the GitHub organization that maintains it.  Many Python packages are available from both of these channels.  (However, the ipyleaflet and pydap  packages are currently not available in the Anaconda collection.) When you are installing several packages into an environment, the potential for installation problems seems to be less if you get them all from the same channel.  Keep in mind that packages you install will likely depend on many other Python packages, so there is a potential for conflicts, usually related to different package versions.  Using conda environments helps to mitigate against this and helps with <b>reproducibility</b>.\n",
    "\n",
    "Once you've switched to an environment with <b>conda activate envname</b>, you can type <b>conda list</b> to see a list of packages.  If you do this right after you create a new environment you will see that it contains no packages.  If you do this right after installing each package above you will see that:\n",
    "\n",
    "<ul>\n",
    "    <li>Installing <b>nb_conda</b> triggers installation of <b>nb_conda_kernels</b>,\n",
    "    <b>ipykernel</b> (5.3.0), <b>notebook</b> (6.0.3) and <b>traitlets</b>\n",
    "    (4.3.3), among many others. \n",
    "    <li>Installing <b>gdal</b> triggers installation of #######.\n",
    "    <li>Installing <b>matplotlib</b> triggers installation of ##########. \n",
    "</ul>\n",
    "\n",
    "#### <b>Jupyter Notebook Extensions</b>\n",
    "\n",
    "Note that <b>nb_conda</b> is installed first above, and triggers installation of <b>nb_conda_kernels</b> along with <b>notebook</b>.  This is important as it makes your Jupyter notebook app aware of your conda environments and available in the app as \"kernels\".  Anaconda provides a helpful page on the\n",
    "[<b>Jupyter Notebook Extensions</b>](https://docs.continuum.io/anaconda/user-guide/tasks/use-jupyter-notebook-extensions/).\n",
    "That page also explains how you can enable or disable these extensions individually. The command <b>jupyter nbextension list</b> shows you the extensions that are installed and whether they are enabled.  If you run the <b>jupyter notebook</b> or <b>jupyter lab</b> command in an environment that has <b>nb_conda_kernels</b> installed (see below), you will have the ability to associate one of your available conda environments with any new notebook you create.  Different environments give rise to different <b>kernels</b> in Jupyter, and the kernel name includes the environment name, e.g. <b>Python \\[conda env:balto\\]</b>.  The kernel name is displayed in the upper right corner.  Notebooks typically open with the \"environment kernel\" they were created with. However, there is a <b>Change Kernel</b> option in the <b>Kernel</b> menu in the Jupyter app menu bar. (After changing the kernel, you may need to choose <b>Restart</b> from the <b>Kernel</b> menu.\n",
    "\n",
    "#### <b>Cloning a conda Environment</b>\n",
    "\n",
    "If your notebook is working but then you want to import additional packages (possibly with many dependencies, and potential for problems), you can keep the first environment but clone it with\n",
    "<b><i>conda create --name clonename --copy --clone envname</i></b>,\n",
    "and then install the additional packages in the clone.  This way, you can switch to the new environment's kernel and try to run your notebook, but if you run into any problems you can easily revert back to the original environment and functionality.\n",
    "\n",
    "<b>Note:</b> Setting the \"--copy\" flag installs all packages using copies instead of hard or soft links.  This is necessary to avoid problems when using <b>pip</b> together with <b>conda</b> as described [<b>on this page</b>](https://stackoverflow.com/questions/43879119/installing-tensorflow-in-cloned-conda-environment-breaks-conda-environment-it-wa).\n",
    "\n",
    "#### <b>Running Notebooks in the Jupyter Notebook App</b>\n",
    "\n",
    "When you want to run the notebook, type <b>conda activate tf36</b> (at an OS command prompt) to activate this environment.  Then change to the directory that contains this notebook and type <b>jupyter notebook</b>.  By default, this folder is called <b>Jupyter</b> and is in your home directory.  In the app, choose this notebook by name, \"TopoFlow_Getting_Started.ipynb\", and make sure to choose the kernel called:  <b>Python \\[conda env:balto\\]</b>.  See the References section at the end for more info.\n",
    "\n",
    "#### <b>Running Notebooks in the JupyterLab App</b>\n",
    "\n",
    "The\n",
    "[<b>JupyterLab</b>](https://jupyterlab.readthedocs.io/en/stable/index.html)\n",
    "app is a cool, new successor to the Notebook app and offers many additional features.  If you want to use this notebook in JupyterLab, you need to install one more Python package, as follows.\n",
    "\n",
    "``` bash\n",
    "% conda activate tf36\n",
    "% conda install -c conda-forge jupyterlab\n",
    "```\n",
    "\n",
    "You launch the JupyterLab app by typing <b>jupyter lab</b> instead of <b>jupyter notebook</b>.  To quit, choose <b>Logout</b> or <b>Shutdown</b> from the app's <b>File</b> menu.\n"
   ]
  },
  {
   "cell_type": "code",
   "execution_count": null,
   "metadata": {},
   "outputs": [],
   "source": []
  }
 ],
 "metadata": {
  "kernelspec": {
   "display_name": "Python [conda env:tfvis]",
   "language": "python",
   "name": "conda-env-tfvis-py"
  },
  "language_info": {
   "codemirror_mode": {
    "name": "ipython",
    "version": 3
   },
   "file_extension": ".py",
   "mimetype": "text/x-python",
   "name": "python",
   "nbconvert_exporter": "python",
   "pygments_lexer": "ipython3",
   "version": "3.7.5"
  }
 },
 "nbformat": 4,
 "nbformat_minor": 4
}
